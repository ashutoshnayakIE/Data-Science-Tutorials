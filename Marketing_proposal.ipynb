{
  "nbformat": 4,
  "nbformat_minor": 0,
  "metadata": {
    "colab": {
      "name": "Marketing_proposal.ipynb",
      "version": "0.3.2",
      "provenance": [],
      "collapsed_sections": []
    },
    "kernelspec": {
      "name": "python3",
      "display_name": "Python 3"
    }
  },
  "cells": [
    {
      "metadata": {
        "id": "sla6JNZ0Ltaf",
        "colab_type": "text"
      },
      "cell_type": "markdown",
      "source": [
        "<h2> The Evolving Landscape of Martech and Advertising</h2>\n",
        "<ol>\n",
        "  <li> <b>Characterizing the Customer Journey along the Purchase Funnel and Strategies to Influence the Journey</b>: with increased capability to track customer footprint, insights can be found on the path the customers take. How ad changes customer journey? how to develop lasting engagement? What is the best strategy to reach to and convert non-buyers? <u> Are cause and green marketing effective? What are the best strategies for it?</u></li>\n",
        "  <li> <b>The Customer-Technology Interface</b>: understanding the role of new techology such as Alexa in advertising. How muc hpersonalization matters and how consumers react to co-creation, content creation, surge pricing?</li>\n",
        "  <li> <b>Macro Trends Influencing Consumer Decision Making</b>: incomers chipping away profits as they reduce the product price - can customer be targeted that can buy at higher price? New aesthetics on luxury and social products.</li>\n",
        "</ol>\n",
        "\n",
        "“How are changes in tech-mediated consumer-provider touchpoints impacting trends in CX investment ROI? Is the ROI on person-mediated interaction increasing, decreasing, or staying the same?” \n",
        "\n",
        "“See the entire customer relationship at every interaction/touchpoint and capitalize on cross/up-sell opportunities.” "
      ]
    },
    {
      "metadata": {
        "id": "5xFQCXPEFop4",
        "colab_type": "text"
      },
      "cell_type": "markdown",
      "source": [
        "<h2> The Evolving Landscape of Martech and Advertising</h2>\n",
        "<ol>\n",
        "  <li> <b>Defining the Communication Message</b>: how do different campaigns fare with the advertisement. e.g. how the content of the campaign affects the buying behavior or <u> can we devide new method of ads for voice </u> can advertising be linked to content and context? <u> Can we automate the campaigns (hence programmatically) based on time at which it is to be shown </u></li>\n",
        "  <li> <b>Optimizing Media Strategy</b>: insights are needed for multi channel promotion. How can AI be used to automate advertising and customer engagement. <u>How to set up programmatic campaigns based on custome decision making ? </u> What factors should influence the choice of the advertising platform (in the display and search markets)? <u> and later movement to voice commands. </u></li>\n",
        "  <li> <b>Setting the Advertising Budget</b>: How will changes in ad pricing models – for example, pay for exposure – influence advertising spend? <u> can we devise a new advertisement method for voice based selling - voice enabled ad or product placement </u></li>\n",
        "  <li> <b>Measuring Media Efficacy</b>: trade-off between reach and targeting. why are ad elasticity so low and how to validate the advrtisment metric we have</li>\n",
        "</ol>\n",
        "\n",
        "“Is there such a thing as too much targeting? If so, where is that point?”\n",
        "\n",
        "“What is the role of creative in a digital world?”\n",
        "\n",
        "“Media buy has been a black box to us.”\n",
        "\n",
        "“What effect do cord cutting, walled gardens, and ad blocking have on future media reach, effectiveness, and ROI?”"
      ]
    },
    {
      "metadata": {
        "id": "BBf3ZCpy6Cqd",
        "colab_type": "text"
      },
      "cell_type": "markdown",
      "source": [
        "<h2> The Rise of Omnichannel Promotion and Distribution</h2>\n",
        "<ol>\n",
        "  <li> <b>Managing Promotion across Channels</b>: multiple channels has implications on customer journey. <u> understanding consumer behavior includes: Which is the right channel, right content, and right time to reach a customer?, How do consumers form platform and channel preferences?, which promotions align with which channel the best</u></li>\n",
        "  <li> <b>Managing Distribution and Demand across Channels</b>: <u> can use this for NIKI:Which is the right product mix and pricing in the right channel? </u></li>\n",
        "  <li> <b>Channel Structure</b>: how should retailer and manufacturers make partnership and how should marketers react to changing dynamics?</li>\n",
        "</ol>\n",
        "\n",
        "”Right channel, right content, right time.”\n",
        "\n",
        "“[We need] strategies for cross platform strategies where 1:1 matching isn't possible. Probabilistic cross-channel targeting.”"
      ]
    },
    {
      "metadata": {
        "id": "X6UGXwu33L8Y",
        "colab_type": "text"
      },
      "cell_type": "markdown",
      "source": [
        "<h2> Capturing Information to Fuel Growth</h2>\n",
        "<ol>\n",
        "  <li> <b>Painting a 360-degree/Holistic View of the Customer</b>: talks mostly about how to gather more data, what to do if the data is limited or if the data is increasing. One important questions is: <u>Is it possible to recognize people anonymously online to enhance the customer experience?</u> </li>\n",
        "  <li> <b>What Key Performance Indices (KPIs)/Metrics Should Be Measured and How?</b>:what moment of data indicates a change in behavior of the customer, how to capture this information by developing a new metric. Also, how to measure customer behavior, attitude? <u> Could use the changing shap values </u></li>\n",
        "  <li> <b>Assessing Causality</b>: using causality to guide marketing decisions. Can we map some outcomes to marketing decisions? <u>What is the ideal approach to integrating marketing mix and attribution with causal levers</u>. When and how to do AB testing. HOw should one balance causality and prediction?</li>\n",
        "  <li> <b>Approaches to Ingesting and Analyzing Data to Drive Marketing Insights</b>: how to use ML for marketing decisions. <u>What approaches exist to capture and analyze nonstructured data such as video, voice, and text in order to improve firm communications and the customer experience</u> </li>\n",
        "</ol>\n",
        "\n",
        "“Connecting the consumer/customer decision process/journey to the ‘moments’ of the data that arise at each step.”\n",
        "\n",
        "“[We need to be] able to use predictive modeling to identify when shifts in shopping behavior are most likely to occur, and estimate the direction, magnitude and duration of these shifts.”\n",
        "\n",
        "“Practical approaches to conducting inference with modern machine learning algorithms applied to large databases.”"
      ]
    },
    {
      "metadata": {
        "id": "wAz23uON5htK",
        "colab_type": "text"
      },
      "cell_type": "markdown",
      "source": [
        "<h2> Organizing for Marketing Agility</h2>\n",
        "<ol>\n",
        "  <li> <b>Internal Organization</b>: How should marketing team talk with other team, do their analysis so that they attract other departments as well</li>\n",
        "  <li> <b>External Organization</b>: how firms should react to new techonology e.g. block chains, new marketing channels, how should they use AI</li>\n",
        "</ol>\n",
        "\n",
        "““[We need a] more overt focus on the application of artificial intelligence and machine learning in marketing—including re-engineering decision making processes, automating routine tasks, driving innovation and effectively competing against digital incumbents and startups.\"\n",
        "\n",
        "“My biggest challenge is in insight adoption… Are there more efficient ways to push insights into the org and get not just action, but the ‘best available’ action?”"
      ]
    },
    {
      "metadata": {
        "id": "7J1JNoDN3K9s",
        "colab_type": "code",
        "colab": {}
      },
      "cell_type": "code",
      "source": [
        ""
      ],
      "execution_count": 0,
      "outputs": []
    }
  ]
}